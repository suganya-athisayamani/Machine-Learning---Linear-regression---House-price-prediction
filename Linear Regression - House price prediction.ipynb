{
  "nbformat": 4,
  "nbformat_minor": 0,
  "metadata": {
    "colab": {
      "name": "Untitled9.ipynb",
      "provenance": []
    },
    "kernelspec": {
      "name": "python3",
      "display_name": "Python 3"
    },
    "language_info": {
      "name": "python"
    }
  },
  "cells": [
    {
      "cell_type": "code",
      "metadata": {
        "id": "Aem0twC2HbmF"
      },
      "source": [
        "import io\n",
        "import sys\n",
        "import pandas as pd\n",
        "from google.colab import files"
      ],
      "execution_count": null,
      "outputs": []
    },
    {
      "cell_type": "code",
      "metadata": {
        "colab": {
          "resources": {
            "http://localhost:8080/nbextensions/google.colab/files.js": {
              "data": "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",
              "ok": true,
              "headers": [
                [
                  "content-type",
                  "application/javascript"
                ]
              ],
              "status": 200,
              "status_text": "OK"
            }
          },
          "base_uri": "https://localhost:8080/",
          "height": 72
        },
        "id": "RrIEG9vaHkk3",
        "outputId": "c44d32b8-2bd3-4e38-c2a2-40e34b4b6fec"
      },
      "source": [
        "uploaded = files.upload()"
      ],
      "execution_count": null,
      "outputs": [
        {
          "output_type": "display_data",
          "data": {
            "text/html": [
              "\n",
              "     <input type=\"file\" id=\"files-73c36f99-8d1c-4b1e-8959-6c32e9d2e39e\" name=\"files[]\" multiple disabled\n",
              "        style=\"border:none\" />\n",
              "     <output id=\"result-73c36f99-8d1c-4b1e-8959-6c32e9d2e39e\">\n",
              "      Upload widget is only available when the cell has been executed in the\n",
              "      current browser session. Please rerun this cell to enable.\n",
              "      </output>\n",
              "      <script src=\"/nbextensions/google.colab/files.js\"></script> "
            ],
            "text/plain": [
              "<IPython.core.display.HTML object>"
            ]
          },
          "metadata": {
            "tags": []
          }
        },
        {
          "output_type": "stream",
          "text": [
            "Saving HousePrices canada.csv to HousePrices canada.csv\n"
          ],
          "name": "stdout"
        }
      ]
    },
    {
      "cell_type": "code",
      "metadata": {
        "id": "SSFhRTGcH-_X"
      },
      "source": [
        "df2 = pd.read_csv(io.BytesIO(uploaded['HousePrices canada.csv']))"
      ],
      "execution_count": null,
      "outputs": []
    },
    {
      "cell_type": "code",
      "metadata": {
        "colab": {
          "base_uri": "https://localhost:8080/"
        },
        "id": "F-fn6WDcIOMe",
        "outputId": "9cfc645e-eb5e-474f-b879-70d24d37e7c7"
      },
      "source": [
        "print(\"There are\",len(df2.columns),\"columns:\")"
      ],
      "execution_count": null,
      "outputs": [
        {
          "output_type": "stream",
          "text": [
            "There are 13 columns:\n"
          ],
          "name": "stdout"
        }
      ]
    },
    {
      "cell_type": "code",
      "metadata": {
        "colab": {
          "base_uri": "https://localhost:8080/"
        },
        "id": "TyRxQmF2IV7f",
        "outputId": "1420720d-a7ec-407b-a6a2-c86dd448b089"
      },
      "source": [
        "for x in df2.columns:\n",
        " sys.stdout.write(str(x)+\", \")"
      ],
      "execution_count": null,
      "outputs": [
        {
          "output_type": "stream",
          "text": [
            "Unnamed: 0, price, lotsize, bedrooms, bathrooms, stories, driveway, recreation, fullbase, gasheat, aircon, garage, prefer, "
          ],
          "name": "stdout"
        }
      ]
    },
    {
      "cell_type": "code",
      "metadata": {
        "colab": {
          "base_uri": "https://localhost:8080/"
        },
        "id": "pahIcGjwIiMe",
        "outputId": "5e5995c3-226b-4af8-efe4-b07f972b2a78"
      },
      "source": [
        "print(\"\\n************\")\n",
        "print(\"Dataset Info:\")\n",
        "print(df2.info())\n",
        "print(\"\\n************\")\n",
        "print(df2)\n",
        "print(\"\\n************\")"
      ],
      "execution_count": null,
      "outputs": [
        {
          "output_type": "stream",
          "text": [
            "\n",
            "************\n",
            "Dataset Info:\n",
            "<class 'pandas.core.frame.DataFrame'>\n",
            "RangeIndex: 546 entries, 0 to 545\n",
            "Data columns (total 13 columns):\n",
            " #   Column      Non-Null Count  Dtype  \n",
            "---  ------      --------------  -----  \n",
            " 0   Unnamed: 0  546 non-null    int64  \n",
            " 1   price       546 non-null    float64\n",
            " 2   lotsize     546 non-null    int64  \n",
            " 3   bedrooms    546 non-null    int64  \n",
            " 4   bathrooms   546 non-null    int64  \n",
            " 5   stories     546 non-null    int64  \n",
            " 6   driveway    546 non-null    object \n",
            " 7   recreation  546 non-null    object \n",
            " 8   fullbase    546 non-null    object \n",
            " 9   gasheat     546 non-null    object \n",
            " 10  aircon      546 non-null    object \n",
            " 11  garage      546 non-null    int64  \n",
            " 12  prefer      546 non-null    object \n",
            "dtypes: float64(1), int64(6), object(6)\n",
            "memory usage: 55.6+ KB\n",
            "None\n",
            "\n",
            "************\n",
            "     Unnamed: 0     price  lotsize  bedrooms  ...  gasheat  aircon garage prefer\n",
            "0             1   42000.0     5850         3  ...       no      no      1     no\n",
            "1             2   38500.0     4000         2  ...       no      no      0     no\n",
            "2             3   49500.0     3060         3  ...       no      no      0     no\n",
            "3             4   60500.0     6650         3  ...       no      no      0     no\n",
            "4             5   61000.0     6360         2  ...       no      no      0     no\n",
            "..          ...       ...      ...       ...  ...      ...     ...    ...    ...\n",
            "541         542   91500.0     4800         3  ...       no     yes      0     no\n",
            "542         543   94000.0     6000         3  ...       no     yes      0     no\n",
            "543         544  103000.0     6000         3  ...       no     yes      1     no\n",
            "544         545  105000.0     6000         3  ...       no     yes      1     no\n",
            "545         546  105000.0     6000         3  ...       no     yes      1     no\n",
            "\n",
            "[546 rows x 13 columns]\n",
            "\n",
            "************\n"
          ],
          "name": "stdout"
        }
      ]
    },
    {
      "cell_type": "code",
      "metadata": {
        "colab": {
          "base_uri": "https://localhost:8080/"
        },
        "id": "vqR_1YkzI-pq",
        "outputId": "5f119d3e-433f-4f03-d3b2-9c7f549d2cc9"
      },
      "source": [
        "exp=df2.iloc[:,0:1].values\n",
        "print(exp)\n"
      ],
      "execution_count": null,
      "outputs": [
        {
          "output_type": "stream",
          "text": [
            "[[  1]\n",
            " [  2]\n",
            " [  3]\n",
            " [  4]\n",
            " [  5]\n",
            " [  6]\n",
            " [  7]\n",
            " [  8]\n",
            " [  9]\n",
            " [ 10]\n",
            " [ 11]\n",
            " [ 12]\n",
            " [ 13]\n",
            " [ 14]\n",
            " [ 15]\n",
            " [ 16]\n",
            " [ 17]\n",
            " [ 18]\n",
            " [ 19]\n",
            " [ 20]\n",
            " [ 21]\n",
            " [ 22]\n",
            " [ 23]\n",
            " [ 24]\n",
            " [ 25]\n",
            " [ 26]\n",
            " [ 27]\n",
            " [ 28]\n",
            " [ 29]\n",
            " [ 30]\n",
            " [ 31]\n",
            " [ 32]\n",
            " [ 33]\n",
            " [ 34]\n",
            " [ 35]\n",
            " [ 36]\n",
            " [ 37]\n",
            " [ 38]\n",
            " [ 39]\n",
            " [ 40]\n",
            " [ 41]\n",
            " [ 42]\n",
            " [ 43]\n",
            " [ 44]\n",
            " [ 45]\n",
            " [ 46]\n",
            " [ 47]\n",
            " [ 48]\n",
            " [ 49]\n",
            " [ 50]\n",
            " [ 51]\n",
            " [ 52]\n",
            " [ 53]\n",
            " [ 54]\n",
            " [ 55]\n",
            " [ 56]\n",
            " [ 57]\n",
            " [ 58]\n",
            " [ 59]\n",
            " [ 60]\n",
            " [ 61]\n",
            " [ 62]\n",
            " [ 63]\n",
            " [ 64]\n",
            " [ 65]\n",
            " [ 66]\n",
            " [ 67]\n",
            " [ 68]\n",
            " [ 69]\n",
            " [ 70]\n",
            " [ 71]\n",
            " [ 72]\n",
            " [ 73]\n",
            " [ 74]\n",
            " [ 75]\n",
            " [ 76]\n",
            " [ 77]\n",
            " [ 78]\n",
            " [ 79]\n",
            " [ 80]\n",
            " [ 81]\n",
            " [ 82]\n",
            " [ 83]\n",
            " [ 84]\n",
            " [ 85]\n",
            " [ 86]\n",
            " [ 87]\n",
            " [ 88]\n",
            " [ 89]\n",
            " [ 90]\n",
            " [ 91]\n",
            " [ 92]\n",
            " [ 93]\n",
            " [ 94]\n",
            " [ 95]\n",
            " [ 96]\n",
            " [ 97]\n",
            " [ 98]\n",
            " [ 99]\n",
            " [100]\n",
            " [101]\n",
            " [102]\n",
            " [103]\n",
            " [104]\n",
            " [105]\n",
            " [106]\n",
            " [107]\n",
            " [108]\n",
            " [109]\n",
            " [110]\n",
            " [111]\n",
            " [112]\n",
            " [113]\n",
            " [114]\n",
            " [115]\n",
            " [116]\n",
            " [117]\n",
            " [118]\n",
            " [119]\n",
            " [120]\n",
            " [121]\n",
            " [122]\n",
            " [123]\n",
            " [124]\n",
            " [125]\n",
            " [126]\n",
            " [127]\n",
            " [128]\n",
            " [129]\n",
            " [130]\n",
            " [131]\n",
            " [132]\n",
            " [133]\n",
            " [134]\n",
            " [135]\n",
            " [136]\n",
            " [137]\n",
            " [138]\n",
            " [139]\n",
            " [140]\n",
            " [141]\n",
            " [142]\n",
            " [143]\n",
            " [144]\n",
            " [145]\n",
            " [146]\n",
            " [147]\n",
            " [148]\n",
            " [149]\n",
            " [150]\n",
            " [151]\n",
            " [152]\n",
            " [153]\n",
            " [154]\n",
            " [155]\n",
            " [156]\n",
            " [157]\n",
            " [158]\n",
            " [159]\n",
            " [160]\n",
            " [161]\n",
            " [162]\n",
            " [163]\n",
            " [164]\n",
            " [165]\n",
            " [166]\n",
            " [167]\n",
            " [168]\n",
            " [169]\n",
            " [170]\n",
            " [171]\n",
            " [172]\n",
            " [173]\n",
            " [174]\n",
            " [175]\n",
            " [176]\n",
            " [177]\n",
            " [178]\n",
            " [179]\n",
            " [180]\n",
            " [181]\n",
            " [182]\n",
            " [183]\n",
            " [184]\n",
            " [185]\n",
            " [186]\n",
            " [187]\n",
            " [188]\n",
            " [189]\n",
            " [190]\n",
            " [191]\n",
            " [192]\n",
            " [193]\n",
            " [194]\n",
            " [195]\n",
            " [196]\n",
            " [197]\n",
            " [198]\n",
            " [199]\n",
            " [200]\n",
            " [201]\n",
            " [202]\n",
            " [203]\n",
            " [204]\n",
            " [205]\n",
            " [206]\n",
            " [207]\n",
            " [208]\n",
            " [209]\n",
            " [210]\n",
            " [211]\n",
            " [212]\n",
            " [213]\n",
            " [214]\n",
            " [215]\n",
            " [216]\n",
            " [217]\n",
            " [218]\n",
            " [219]\n",
            " [220]\n",
            " [221]\n",
            " [222]\n",
            " [223]\n",
            " [224]\n",
            " [225]\n",
            " [226]\n",
            " [227]\n",
            " [228]\n",
            " [229]\n",
            " [230]\n",
            " [231]\n",
            " [232]\n",
            " [233]\n",
            " [234]\n",
            " [235]\n",
            " [236]\n",
            " [237]\n",
            " [238]\n",
            " [239]\n",
            " [240]\n",
            " [241]\n",
            " [242]\n",
            " [243]\n",
            " [244]\n",
            " [245]\n",
            " [246]\n",
            " [247]\n",
            " [248]\n",
            " [249]\n",
            " [250]\n",
            " [251]\n",
            " [252]\n",
            " [253]\n",
            " [254]\n",
            " [255]\n",
            " [256]\n",
            " [257]\n",
            " [258]\n",
            " [259]\n",
            " [260]\n",
            " [261]\n",
            " [262]\n",
            " [263]\n",
            " [264]\n",
            " [265]\n",
            " [266]\n",
            " [267]\n",
            " [268]\n",
            " [269]\n",
            " [270]\n",
            " [271]\n",
            " [272]\n",
            " [273]\n",
            " [274]\n",
            " [275]\n",
            " [276]\n",
            " [277]\n",
            " [278]\n",
            " [279]\n",
            " [280]\n",
            " [281]\n",
            " [282]\n",
            " [283]\n",
            " [284]\n",
            " [285]\n",
            " [286]\n",
            " [287]\n",
            " [288]\n",
            " [289]\n",
            " [290]\n",
            " [291]\n",
            " [292]\n",
            " [293]\n",
            " [294]\n",
            " [295]\n",
            " [296]\n",
            " [297]\n",
            " [298]\n",
            " [299]\n",
            " [300]\n",
            " [301]\n",
            " [302]\n",
            " [303]\n",
            " [304]\n",
            " [305]\n",
            " [306]\n",
            " [307]\n",
            " [308]\n",
            " [309]\n",
            " [310]\n",
            " [311]\n",
            " [312]\n",
            " [313]\n",
            " [314]\n",
            " [315]\n",
            " [316]\n",
            " [317]\n",
            " [318]\n",
            " [319]\n",
            " [320]\n",
            " [321]\n",
            " [322]\n",
            " [323]\n",
            " [324]\n",
            " [325]\n",
            " [326]\n",
            " [327]\n",
            " [328]\n",
            " [329]\n",
            " [330]\n",
            " [331]\n",
            " [332]\n",
            " [333]\n",
            " [334]\n",
            " [335]\n",
            " [336]\n",
            " [337]\n",
            " [338]\n",
            " [339]\n",
            " [340]\n",
            " [341]\n",
            " [342]\n",
            " [343]\n",
            " [344]\n",
            " [345]\n",
            " [346]\n",
            " [347]\n",
            " [348]\n",
            " [349]\n",
            " [350]\n",
            " [351]\n",
            " [352]\n",
            " [353]\n",
            " [354]\n",
            " [355]\n",
            " [356]\n",
            " [357]\n",
            " [358]\n",
            " [359]\n",
            " [360]\n",
            " [361]\n",
            " [362]\n",
            " [363]\n",
            " [364]\n",
            " [365]\n",
            " [366]\n",
            " [367]\n",
            " [368]\n",
            " [369]\n",
            " [370]\n",
            " [371]\n",
            " [372]\n",
            " [373]\n",
            " [374]\n",
            " [375]\n",
            " [376]\n",
            " [377]\n",
            " [378]\n",
            " [379]\n",
            " [380]\n",
            " [381]\n",
            " [382]\n",
            " [383]\n",
            " [384]\n",
            " [385]\n",
            " [386]\n",
            " [387]\n",
            " [388]\n",
            " [389]\n",
            " [390]\n",
            " [391]\n",
            " [392]\n",
            " [393]\n",
            " [394]\n",
            " [395]\n",
            " [396]\n",
            " [397]\n",
            " [398]\n",
            " [399]\n",
            " [400]\n",
            " [401]\n",
            " [402]\n",
            " [403]\n",
            " [404]\n",
            " [405]\n",
            " [406]\n",
            " [407]\n",
            " [408]\n",
            " [409]\n",
            " [410]\n",
            " [411]\n",
            " [412]\n",
            " [413]\n",
            " [414]\n",
            " [415]\n",
            " [416]\n",
            " [417]\n",
            " [418]\n",
            " [419]\n",
            " [420]\n",
            " [421]\n",
            " [422]\n",
            " [423]\n",
            " [424]\n",
            " [425]\n",
            " [426]\n",
            " [427]\n",
            " [428]\n",
            " [429]\n",
            " [430]\n",
            " [431]\n",
            " [432]\n",
            " [433]\n",
            " [434]\n",
            " [435]\n",
            " [436]\n",
            " [437]\n",
            " [438]\n",
            " [439]\n",
            " [440]\n",
            " [441]\n",
            " [442]\n",
            " [443]\n",
            " [444]\n",
            " [445]\n",
            " [446]\n",
            " [447]\n",
            " [448]\n",
            " [449]\n",
            " [450]\n",
            " [451]\n",
            " [452]\n",
            " [453]\n",
            " [454]\n",
            " [455]\n",
            " [456]\n",
            " [457]\n",
            " [458]\n",
            " [459]\n",
            " [460]\n",
            " [461]\n",
            " [462]\n",
            " [463]\n",
            " [464]\n",
            " [465]\n",
            " [466]\n",
            " [467]\n",
            " [468]\n",
            " [469]\n",
            " [470]\n",
            " [471]\n",
            " [472]\n",
            " [473]\n",
            " [474]\n",
            " [475]\n",
            " [476]\n",
            " [477]\n",
            " [478]\n",
            " [479]\n",
            " [480]\n",
            " [481]\n",
            " [482]\n",
            " [483]\n",
            " [484]\n",
            " [485]\n",
            " [486]\n",
            " [487]\n",
            " [488]\n",
            " [489]\n",
            " [490]\n",
            " [491]\n",
            " [492]\n",
            " [493]\n",
            " [494]\n",
            " [495]\n",
            " [496]\n",
            " [497]\n",
            " [498]\n",
            " [499]\n",
            " [500]\n",
            " [501]\n",
            " [502]\n",
            " [503]\n",
            " [504]\n",
            " [505]\n",
            " [506]\n",
            " [507]\n",
            " [508]\n",
            " [509]\n",
            " [510]\n",
            " [511]\n",
            " [512]\n",
            " [513]\n",
            " [514]\n",
            " [515]\n",
            " [516]\n",
            " [517]\n",
            " [518]\n",
            " [519]\n",
            " [520]\n",
            " [521]\n",
            " [522]\n",
            " [523]\n",
            " [524]\n",
            " [525]\n",
            " [526]\n",
            " [527]\n",
            " [528]\n",
            " [529]\n",
            " [530]\n",
            " [531]\n",
            " [532]\n",
            " [533]\n",
            " [534]\n",
            " [535]\n",
            " [536]\n",
            " [537]\n",
            " [538]\n",
            " [539]\n",
            " [540]\n",
            " [541]\n",
            " [542]\n",
            " [543]\n",
            " [544]\n",
            " [545]\n",
            " [546]]\n"
          ],
          "name": "stdout"
        }
      ]
    },
    {
      "cell_type": "code",
      "metadata": {
        "colab": {
          "base_uri": "https://localhost:8080/"
        },
        "id": "6qTo9V8RKXGK",
        "outputId": "37262384-7f4b-4c63-abb2-368bd8c0813a"
      },
      "source": [
        "sal=df2.iloc[:,1].values\n",
        "print(sal)"
      ],
      "execution_count": null,
      "outputs": [
        {
          "output_type": "stream",
          "text": [
            "[ 42000.  38500.  49500.  60500.  61000.  66000.  66000.  69000.  83800.\n",
            "  88500.  90000.  30500.  27000.  36000.  37000.  37900.  40500.  40750.\n",
            "  45000.  45000.  48500.  65900.  37900.  38000.  42000.  42300.  43500.\n",
            "  44000.  44500.  44900.  45000.  48000.  49000.  51500.  61000.  61000.\n",
            "  61700.  67000.  82000.  54500.  66500.  70000.  82000.  92000.  38000.\n",
            "  44000.  41000.  43000.  48000.  54800.  55000.  57000.  68000.  95000.\n",
            "  38000.  25000.  25245.  56000.  35500.  30000.  48000.  48000.  52000.\n",
            "  54000.  56000.  60000.  60000.  67000.  47000.  70000.  45000.  51000.\n",
            "  32500.  34000.  35000.  36000.  45000.  47000.  55000.  63900.  50000.\n",
            "  35000.  50000.  43000.  55500.  57000.  60000.  78000.  35000.  44000.\n",
            "  47000.  58000. 163000. 128000. 123500.  39000.  53900.  59900.  35000.\n",
            "  43000.  57000.  79000. 125000. 132000.  58000.  43000.  48000.  58500.\n",
            "  73000.  63500.  43000.  46500.  92000.  75000.  75000.  85000.  93000.\n",
            "  94500. 106500. 116000.  61500.  80000.  37000.  59500.  70000.  95000.\n",
            " 117000. 122500. 123500. 127000.  35000.  44500.  49900.  50500.  65000.\n",
            "  90000.  46000.  35000.  26500.  43000.  56000.  40000.  51000.  51000.\n",
            "  57250.  44000.  61000.  62000.  80000.  50000.  59900.  35500.  37000.\n",
            "  42000.  48000.  60000.  60000.  60000.  62000.  63000.  63900. 130000.\n",
            "  25000.  50000.  52900.  62000.  73500.  38000.  46000.  48000.  52500.\n",
            "  32000.  38000.  46000.  50000.  57500.  70000.  69900.  74500.  42000.\n",
            "  60000.  50000.  58000.  63900.  28000.  54000.  44700.  47000.  50000.\n",
            "  57250.  67000.  52500.  42000.  57500.  33000.  34400.  40000.  40500.\n",
            "  46500.  52000.  53000.  53900.  50000.  55500.  56000.  60000.  60000.\n",
            "  69500.  72000.  92500.  40500.  42000.  47900.  52000.  62000.  41000.\n",
            " 138300.  42000.  47000.  64500.  46000.  58000.  70100.  78500.  87250.\n",
            "  70800.  56000.  48000.  68000.  79000.  80000.  87000.  25000.  32500.\n",
            "  36000.  42500.  43000.  50000.  26000.  30000.  34000.  52000.  70000.\n",
            "  27000.  32500.  37200.  38000.  42000.  44500.  45000.  48500.  52000.\n",
            "  53900.  60000.  61000.  64500.  71000.  75500.  33500.  41000.  41000.\n",
            "  46200.  48500.  48900.  50000.  51000.  52500.  52500.  54000.  59000.\n",
            "  60000.  63000.  64000.  64900.  65000.  66000.  70000.  65500.  57000.\n",
            "  52000.  54000.  74500.  90000.  45000.  45000.  65000.  55000.  62000.\n",
            "  30000.  34000.  38000.  39000.  45000.  47000.  47500.  49000.  50000.\n",
            "  50000.  52900.  53000.  55000.  56000.  58500.  59500.  60000.  64000.\n",
            "  67000.  68100.  70000.  72000.  57500.  69900.  70000.  75000.  76900.\n",
            "  78000.  80000.  82000.  83000.  83000.  83900.  88500.  93000.  98000.\n",
            "  98500.  99000. 101000. 110000. 115442. 120000. 124000. 175000.  50000.\n",
            "  55000.  60000.  61000. 106000. 155000. 141000.  62500.  70000.  73000.\n",
            "  80000.  80000.  88000.  49000.  52000.  59500.  60000.  64000.  64500.\n",
            "  68500.  78500.  86000.  86900.  75000.  78000.  95000.  97000. 107000.\n",
            " 130000. 145000. 175000.  72000.  84900.  99000. 114000. 120000. 145000.\n",
            "  79000.  82000.  85000. 100500. 122000. 126500. 133000. 140000. 190000.\n",
            "  84000.  97000. 103500. 112500. 140000.  74700.  78000.  78900.  83900.\n",
            "  85000.  85000.  86000.  86900.  94500.  96000. 106000.  72000.  74500.\n",
            "  77000.  80750.  82900.  85000.  92500.  76000.  77500.  80000.  80000.\n",
            "  86000.  87000.  87500.  89000.  89900.  90000.  95000. 112000.  31900.\n",
            "  52000.  90000. 100000.  91700. 174500.  94700.  68000.  80000.  61100.\n",
            "  62900.  65500.  66000.  49500.  50000.  53500.  58550.  64500.  65000.\n",
            "  69000.  73000.  75000.  75000. 132000.  60000.  65000.  69000.  51900.\n",
            "  57000.  65000.  79500.  72500. 104900. 114900. 120000.  58000.  67000.\n",
            "  67000.  69000.  73000.  73500.  74900.  75000.  79500. 120900.  44555.\n",
            "  47000.  47600.  49000.  49000.  49000.  49500.  52000.  54000.  55000.\n",
            "  55000.  56000.  60000.  60500.  50000.  64900.  93000.  85000.  61500.\n",
            "  88500.  88000.  89000.  89500.  95000.  95500.  51500.  62900. 118500.\n",
            "  42900.  44100.  47000.  50000.  50000.  53000.  53000.  54000.  58500.\n",
            "  59000.  60000.  62900.  64000.  65000.  67900.  68500.  70000.  70500.\n",
            "  71500.  71900.  75000.  75000.  87000.  64000.  70000.  47500.  62600.\n",
            "  66000.  58900.  53000.  95000.  96500. 101000. 102000. 103000. 105000.\n",
            " 108000. 110000. 113000. 120000. 105000. 106000. 107500. 108000. 113750.\n",
            " 120000.  70000.  71000.  82000.  82000.  82500.  83000.  84000.  85000.\n",
            "  85000.  91500.  94000. 103000. 105000. 105000.]\n"
          ],
          "name": "stdout"
        }
      ]
    },
    {
      "cell_type": "code",
      "metadata": {
        "id": "VcYh5fQWKe0h"
      },
      "source": [
        "from sklearn.model_selection import train_test_split\n",
        "X_train, X_test, y_train, y_test = train_test_split(exp, sal, test_size = 0.2, random_state=0)\n",
        "from sklearn.linear_model import LinearRegression\n",
        "regressor = LinearRegression()\n",
        "regressor.fit(X_train, y_train)\n",
        "y_pred = regressor.predict(X_test)\n",
        "y_pred_train = regressor.predict(X_train)"
      ],
      "execution_count": null,
      "outputs": []
    },
    {
      "cell_type": "code",
      "metadata": {
        "colab": {
          "base_uri": "https://localhost:8080/"
        },
        "id": "kUbPByNqK80z",
        "outputId": "956faf02-8a66-4864-a02a-954078b8fba8"
      },
      "source": [
        "print(\"Model Score: \", regressor.score(X_test, y_test))"
      ],
      "execution_count": null,
      "outputs": [
        {
          "output_type": "stream",
          "text": [
            "Model Score:  0.18623549897840064\n"
          ],
          "name": "stdout"
        }
      ]
    },
    {
      "cell_type": "code",
      "metadata": {
        "colab": {
          "base_uri": "https://localhost:8080/"
        },
        "id": "ZOZdGAc9LBB1",
        "outputId": "7200b6b1-2891-4ac4-e72e-92ced5d43c50"
      },
      "source": [
        "from sklearn.metrics import r2_score\n",
        "print(\"R_square score: \", r2_score(y_test,y_pred))\n"
      ],
      "execution_count": null,
      "outputs": [
        {
          "output_type": "stream",
          "text": [
            "R_square score:  0.18623549897840064\n"
          ],
          "name": "stdout"
        }
      ]
    },
    {
      "cell_type": "code",
      "metadata": {
        "colab": {
          "base_uri": "https://localhost:8080/",
          "height": 295
        },
        "id": "cU6_hmQCLHmk",
        "outputId": "e0dcf7fc-374f-444c-d747-4fe8c354a3fc"
      },
      "source": [
        "import matplotlib.pyplot as plt\n",
        "plt.scatter(X_train, y_train, color = 'green')\n",
        "plt.plot(X_train, regressor.predict(X_train), color = 'red')\n",
        "plt.title('HousePrices canada (Training set)')\n",
        "plt.xlabel('price')\n",
        "plt.ylabel('lotsize')\n",
        "plt.show()"
      ],
      "execution_count": null,
      "outputs": [
        {
          "output_type": "display_data",
          "data": {
            "image/png": "[encoded data removed]",
            "text/plain": [
              "<Figure size 432x288 with 1 Axes>"
            ]
          },
          "metadata": {
            "tags": [],
            "needs_background": "light"
          }
        }
      ]
    },
    {
      "cell_type": "code",
      "metadata": {
        "colab": {
          "base_uri": "https://localhost:8080/",
          "height": 295
        },
        "id": "cDGjCs3wMIFN",
        "outputId": "10a9f9db-3573-4117-aecf-84a81a576f1f"
      },
      "source": [
        "plt.scatter(X_test, y_test, color = 'red')\n",
        "plt.plot(X_train, regressor.predict(X_train), color = 'blue')\n",
        "plt.title('HousePrices canada (Test set)')\n",
        "plt.xlabel('price')\n",
        "plt.ylabel('lotsize')\n",
        "plt.show()"
      ],
      "execution_count": null,
      "outputs": [
        {
          "output_type": "display_data",
          "data": {
            "image/png": "[encoded data removed]",
            "text/plain": [
              "<Figure size 432x288 with 1 Axes>"
            ]
          },
          "metadata": {
            "tags": [],
            "needs_background": "light"
          }
        }
      ]
    },
    {
      "cell_type": "code",
      "metadata": {
        "colab": {
          "base_uri": "https://localhost:8080/",
          "height": 295
        },
        "id": "rDYZlqDDMXTt",
        "outputId": "0c04993b-ae0d-497a-e47f-dd32bb17c910"
      },
      "source": [
        "plt.scatter(X_test, y_test, color = 'yellow')\n",
        "plt.plot(X_train, regressor.predict(X_train), color = 'black')\n",
        "plt.title('HousePrices canada (Test set)')\n",
        "plt.xlabel('price')\n",
        "plt.ylabel('lotsize')\n",
        "plt.show()"
      ],
      "execution_count": null,
      "outputs": [
        {
          "output_type": "display_data",
          "data": {
            "image/png": "[encoded data removed]",
            "text/plain": [
              "<Figure size 432x288 with 1 Axes>"
            ]
          },
          "metadata": {
            "tags": [],
            "needs_background": "light"
          }
        }
      ]
    }
  ]
}